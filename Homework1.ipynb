{
 "cells": [
  {
   "cell_type": "code",
   "execution_count": 82,
   "id": "a7fe228a",
   "metadata": {},
   "outputs": [],
   "source": [
    "class Test:\n",
    "    @staticmethod\n",
    "    def assert_equals(a, b, *args, **kwargs):\n",
    "        assert a == b\n",
    "        print('Passed')"
   ]
  },
  {
   "cell_type": "markdown",
   "id": "2c700b72",
   "metadata": {},
   "source": [
    "# Task 1 - Expert 5 points\n",
    "https://edabit.com/challenge/YDgtdP69Mn9pC73xN"
   ]
  },
  {
   "cell_type": "code",
   "execution_count": 83,
   "id": "f826b9e1",
   "metadata": {},
   "outputs": [],
   "source": [
    "def num_grid(lst):\n",
    "\tm = len(lst)\n",
    "\tn = len(lst[0])\n",
    "\t\n",
    "\tfor i in range(m):\n",
    "\t\tfor j in range(n):\n",
    "\t\t\tif lst[i][j] == '-':\n",
    "\t\t\t\tlst[i][j] = '0'\n",
    "\t\t\telif lst[i][j] == '#':\n",
    "\t\t\t\tif i > 0 and lst[i - 1][j] != '#':\n",
    "\t\t\t\t\tlst[i - 1][j] = str(1 + int(lst[i - 1][j]))\n",
    "\t\t\t\tif i > 0 and j > 0 and lst[i - 1][j - 1] != '#':\n",
    "\t\t\t\t\tlst[i - 1][j - 1] = str(1 + int(lst[i - 1][j - 1]))\n",
    "\t\t\t\tif i > 0 and j < n - 1 and lst[i - 1][j + 1] != '#':\n",
    "\t\t\t\t\tlst[i - 1][j + 1] = str(1 + int(lst[i - 1][j + 1]))\n",
    "\t\t\t\tif j > 0 and lst[i][j - 1] != '#':\n",
    "\t\t\t\t\tlst[i][j - 1] = str(1 + int(lst[i][j - 1]))\n",
    "\t\t\t\tif j > 0 and i < m - 1 and lst[i + 1][j - 1] != '#':\n",
    "\t\t\t\t\tif lst[i + 1][j - 1] == '-':\n",
    "\t\t\t\t\t\tlst[i + 1][j - 1] = '0'\n",
    "\t\t\t\t\tlst[i + 1][j - 1] = str(1 + int(lst[i + 1][j - 1]))\n",
    "\t\t\t\tif i < m - 1 and lst[i + 1][j] != '#':\n",
    "\t\t\t\t\tif lst[i + 1][j] == '-':\n",
    "\t\t\t\t\t\tlst[i + 1][j] = '0'\n",
    "\t\t\t\t\tlst[i + 1][j] = str(1 + int(lst[i + 1][j]))\n",
    "\t\t\t\tif j < n - 1 and lst[i][j + 1] != '#':\n",
    "\t\t\t\t\tif lst[i][j + 1] == '-':\n",
    "\t\t\t\t\t\tlst[i][j + 1] = '0'\n",
    "\t\t\t\t\tlst[i][j + 1] = str(1 + int(lst[i][j + 1]))\n",
    "\t\t\t\tif j < n - 1 and i < m - 1 and lst[i + 1][j + 1] != '#':\n",
    "\t\t\t\t\tif lst[i + 1][j + 1] == '-':\n",
    "\t\t\t\t\t\tlst[i + 1][j + 1] = '0'\n",
    "\t\t\t\t\tlst[i + 1][j + 1] = str(1 + int(lst[i + 1][j + 1]))\n",
    "\t\t\t\t\t\t\n",
    "\treturn lst"
   ]
  },
  {
   "cell_type": "code",
   "execution_count": 84,
   "id": "7f1c1ac4",
   "metadata": {},
   "outputs": [
    {
     "name": "stdout",
     "output_type": "stream",
     "text": [
      "Passed\n",
      "Passed\n",
      "Passed\n"
     ]
    }
   ],
   "source": [
    "Test.assert_equals(num_grid([\n",
    "['-', '-', '-', '-', '-'],\n",
    "['-', '-', '-', '-', '-'],\n",
    "['-', '-', '#', '-', '-'],\n",
    "['-', '-', '-', '-', '-'],\n",
    "['-', '-', '-', '-', '-']\n",
    "]), [\n",
    "['0', '0', '0', '0', '0'],\n",
    "['0', '1', '1', '1', '0'],\n",
    "['0', '1', '#', '1', '0'],\n",
    "['0', '1', '1', '1', '0'],\n",
    "['0', '0', '0', '0', '0']\n",
    "])\n",
    "\n",
    "Test.assert_equals(num_grid([\n",
    "['-', '-', '-', '-', '#'],\n",
    "['-', '-', '-', '-', '-'],\n",
    "['-', '-', '#', '-', '-'],\n",
    "['-', '-', '-', '-', '-'],\n",
    "['#', '-', '-', '-', '-']\n",
    "]), [\n",
    "['0', '0', '0', '1', '#'],\n",
    "['0', '1', '1', '2', '1'],\n",
    "['0', '1', '#', '1', '0'],\n",
    "['1', '2', '1', '1', '0'],\n",
    "['#', '1', '0', '0', '0']\n",
    "])\n",
    "\n",
    "Test.assert_equals(num_grid([\n",
    "['-', '-', '-', '#', '#'],\n",
    "['-', '#', '-', '-', '-'],\n",
    "['-', '-', '#', '-', '-'],\n",
    "['-', '#', '#', '-', '-'],\n",
    "['-', '-', '-', '-', '-']\n",
    "]), [\n",
    "['1', '1', '2', '#', '#'],\n",
    "['1', '#', '3', '3', '2'],\n",
    "['2', '4', '#', '2', '0'],\n",
    "['1', '#', '#', '2', '0'],\n",
    "['1', '2', '2', '1', '0']\n",
    "])"
   ]
  },
  {
   "cell_type": "markdown",
   "id": "470a5cdc",
   "metadata": {},
   "source": [
    "# Task 2 - Expert 5 points\n",
    "https://edabit.com/challenge/RuwpKTa8grNSQkqX5"
   ]
  },
  {
   "cell_type": "code",
   "execution_count": 85,
   "id": "2ca5f5aa",
   "metadata": {},
   "outputs": [],
   "source": [
    "def fractions(decimal):\n",
    "    a = 0\n",
    "    d = 0\n",
    "    b = dict()\n",
    "    b[2] = 0\n",
    "    b[5] = 0\n",
    "\n",
    "    i = 0\n",
    "    while decimal[i] != '.':\n",
    "        a = a * 10 + int(decimal[i])\n",
    "        i += 1\n",
    "\n",
    "    i += 1\n",
    "    while decimal[i] != '(':\n",
    "        a = a * 10 + int(decimal[i])\n",
    "        b[2] += 1\n",
    "        b[5] += 1\n",
    "        i += 1\n",
    "\n",
    "    i += 1\n",
    "    l = 0\n",
    "    while decimal[i] != ')':\n",
    "        d = d * 10 + int(decimal[i])\n",
    "        i += 1\n",
    "        l = l * 10 + 9\n",
    "\n",
    "    a = a * l + d\n",
    "    s = b[2]\n",
    "    for i in range(s):\n",
    "        if a % 2 == 0:\n",
    "            a /= 2\n",
    "            b[2] -= 1\n",
    "        else:\n",
    "            break\n",
    "    s = b[5]\n",
    "    for i in range(s):\n",
    "        if a % 5 == 0:\n",
    "            a /= 5\n",
    "            b[5] -= 1\n",
    "        else:\n",
    "            break\n",
    "    d = 3\n",
    "    aa, ll = min(a, l), max(a, l)\n",
    "    while ll % aa != 0:\n",
    "        ll = ll - aa\n",
    "        aa, ll = min(aa, ll), max(aa, ll)\n",
    "        \n",
    "    return(str(int(a / aa)) + '/' + str(int(l / aa * 2**b[2] * 5**b[5])))\n"
   ]
  },
  {
   "cell_type": "code",
   "execution_count": 86,
   "id": "1bb32eca",
   "metadata": {
    "scrolled": true
   },
   "outputs": [
    {
     "name": "stdout",
     "output_type": "stream",
     "text": [
      "Passed\n",
      "Passed\n",
      "Passed\n",
      "Passed\n",
      "Passed\n",
      "Passed\n",
      "Passed\n"
     ]
    }
   ],
   "source": [
    "Test.assert_equals(fractions(\"0.(09)\"), \"1/11\")\n",
    "Test.assert_equals(fractions(\"0.0(45)\"), \"1/22\")\n",
    "Test.assert_equals(fractions(\"2.1(313)\"), \"10646/4995\")\n",
    "Test.assert_equals(fractions(\"0.0208(3)\"), \"1/48\")\n",
    "Test.assert_equals(fractions(\"12.(12345)\"), \"404111/33333\")\n",
    "Test.assert_equals(fractions(\"1.017(857142)\"), \"57/56\")\n",
    "Test.assert_equals(fractions(\"0.(052631578947368421)\"), \"1/19\")"
   ]
  },
  {
   "cell_type": "markdown",
   "id": "90f28cc3",
   "metadata": {},
   "source": [
    "# Task 3 - Expert 5 points\n",
    "https://edabit.com/challenge/TuG3DuZnC5MhGSfaY"
   ]
  },
  {
   "cell_type": "code",
   "execution_count": 87,
   "id": "dc54aab8",
   "metadata": {},
   "outputs": [],
   "source": [
    "def f(x):\n",
    "    r = 1\n",
    "    for i in range(1, x + 1):\n",
    "        r *= i\n",
    "    return r\n",
    "\n",
    "def jumble(txt, index):\n",
    "    l = len(txt)\n",
    "    F = dict()\n",
    "    answer = ''\n",
    "    words = list(txt)\n",
    "    \n",
    "    for i in range(l + 1):\n",
    "        F[i] = f(i)\n",
    "    \n",
    "    for i in range(l):\n",
    "        t = index // F[l - i - 1]\n",
    "        answer += words[t]\n",
    "        words.pop(t)\n",
    "        index %= F[l - i - 1]\n",
    "    \n",
    "    return answer"
   ]
  },
  {
   "cell_type": "code",
   "execution_count": 88,
   "id": "290ff765",
   "metadata": {},
   "outputs": [
    {
     "name": "stdout",
     "output_type": "stream",
     "text": [
      "Passed\n",
      "Passed\n",
      "Passed\n",
      "Passed\n",
      "Passed\n",
      "Passed\n",
      "Passed\n",
      "Passed\n",
      "Passed\n"
     ]
    }
   ],
   "source": [
    "Test.assert_equals(jumble(\"a\", 0), \"a\")\n",
    "Test.assert_equals(jumble(\"abes\", 7), \"base\")\n",
    "Test.assert_equals(jumble(\"ginz\", 21), \"zing\")\n",
    "Test.assert_equals(jumble(\"acknr\", 43), \"crank\")\n",
    "Test.assert_equals(jumble(\"aceghns\", 1094), \"changes\")\n",
    "Test.assert_equals(jumble(\"eghilnoprstu\", 465433101), \"upholstering\")\n",
    "Test.assert_equals(jumble(\"cdeghinoprtuy\", 5510573825), \"uncopyrighted\")\n",
    "Test.assert_equals(jumble(\"acdeghimnorsty\", 36994730804), \"hydromagnetics\")\n",
    "Test.assert_equals(jumble(\"acdeghilmoprsty\", 191364251720), \"dermatoglyphics\")"
   ]
  },
  {
   "cell_type": "code",
   "execution_count": null,
   "id": "4edd66bb",
   "metadata": {},
   "outputs": [],
   "source": []
  }
 ],
 "metadata": {
  "kernelspec": {
   "display_name": "Python 3 (ipykernel)",
   "language": "python",
   "name": "python3"
  },
  "language_info": {
   "codemirror_mode": {
    "name": "ipython",
    "version": 3
   },
   "file_extension": ".py",
   "mimetype": "text/x-python",
   "name": "python",
   "nbconvert_exporter": "python",
   "pygments_lexer": "ipython3",
   "version": "3.9.7"
  }
 },
 "nbformat": 4,
 "nbformat_minor": 5
}
