{
 "cells": [
  {
   "cell_type": "code",
   "execution_count": 1,
   "id": "3e5c8119",
   "metadata": {},
   "outputs": [],
   "source": [
    "import numpy as np"
   ]
  },
  {
   "cell_type": "markdown",
   "id": "225267e3",
   "metadata": {},
   "source": [
    "### Создайте массив 10х10, заполненный в центре нулями, а по границе единицами."
   ]
  },
  {
   "cell_type": "code",
   "execution_count": 2,
   "id": "04419f60",
   "metadata": {},
   "outputs": [
    {
     "data": {
      "text/plain": [
       "array([[1., 1., 1., 1., 1., 1., 1., 1., 1., 1.],\n",
       "       [1., 0., 0., 0., 0., 0., 0., 0., 0., 1.],\n",
       "       [1., 0., 0., 0., 0., 0., 0., 0., 0., 1.],\n",
       "       [1., 0., 0., 0., 0., 0., 0., 0., 0., 1.],\n",
       "       [1., 0., 0., 0., 0., 0., 0., 0., 0., 1.],\n",
       "       [1., 0., 0., 0., 0., 0., 0., 0., 0., 1.],\n",
       "       [1., 0., 0., 0., 0., 0., 0., 0., 0., 1.],\n",
       "       [1., 0., 0., 0., 0., 0., 0., 0., 0., 1.],\n",
       "       [1., 0., 0., 0., 0., 0., 0., 0., 0., 1.],\n",
       "       [1., 1., 1., 1., 1., 1., 1., 1., 1., 1.]])"
      ]
     },
     "execution_count": 2,
     "metadata": {},
     "output_type": "execute_result"
    }
   ],
   "source": [
    "np.pad(np.zeros((8,8)), pad_width=1, mode='constant', constant_values=1)"
   ]
  },
  {
   "cell_type": "markdown",
   "id": "9043eed0",
   "metadata": {},
   "source": [
    "### Создайте массив 8х8, заполненный 0 и 1 в шахматном порядке."
   ]
  },
  {
   "cell_type": "code",
   "execution_count": 3,
   "id": "65201bf5",
   "metadata": {},
   "outputs": [
    {
     "data": {
      "text/plain": [
       "array([[0, 1, 0, 1, 0, 1, 0, 1],\n",
       "       [1, 0, 1, 0, 1, 0, 1, 0],\n",
       "       [0, 1, 0, 1, 0, 1, 0, 1],\n",
       "       [1, 0, 1, 0, 1, 0, 1, 0],\n",
       "       [0, 1, 0, 1, 0, 1, 0, 1],\n",
       "       [1, 0, 1, 0, 1, 0, 1, 0],\n",
       "       [0, 1, 0, 1, 0, 1, 0, 1],\n",
       "       [1, 0, 1, 0, 1, 0, 1, 0]])"
      ]
     },
     "execution_count": 3,
     "metadata": {},
     "output_type": "execute_result"
    }
   ],
   "source": [
    "(np.arange(72).reshape(8, -1) % 2)[::, 0:8]"
   ]
  },
  {
   "cell_type": "markdown",
   "id": "9e546671",
   "metadata": {},
   "source": [
    "### Создайте масив first_column из четырех элементов: 0, 10, 20, 30. Затем создайте двухмерный массив 4x5, в котором первый столбец - массив first_column, а каждый элемент каждой строки, начиная со второго,  больше предыдущего элемента этой же строки на 1."
   ]
  },
  {
   "cell_type": "code",
   "execution_count": 4,
   "id": "35571668",
   "metadata": {},
   "outputs": [
    {
     "ename": "NameError",
     "evalue": "name 'a' is not defined",
     "output_type": "error",
     "traceback": [
      "\u001b[0;31m---------------------------------------------------------------------------\u001b[0m",
      "\u001b[0;31mNameError\u001b[0m                                 Traceback (most recent call last)",
      "\u001b[0;32m/var/folders/sw/7tfvszxd05n_kz6zwmp_79dw0000gn/T/ipykernel_64031/1363530897.py\u001b[0m in \u001b[0;36m<module>\u001b[0;34m\u001b[0m\n\u001b[1;32m      1\u001b[0m \u001b[0mfirst_column\u001b[0m \u001b[0;34m=\u001b[0m \u001b[0mnp\u001b[0m\u001b[0;34m.\u001b[0m\u001b[0marange\u001b[0m\u001b[0;34m(\u001b[0m\u001b[0;36m0\u001b[0m\u001b[0;34m,\u001b[0m \u001b[0;36m31\u001b[0m\u001b[0;34m,\u001b[0m \u001b[0;36m10\u001b[0m\u001b[0;34m)\u001b[0m\u001b[0;34m\u001b[0m\u001b[0;34m\u001b[0m\u001b[0m\n\u001b[0;32m----> 2\u001b[0;31m \u001b[0mprint\u001b[0m\u001b[0;34m(\u001b[0m\u001b[0ma\u001b[0m\u001b[0;34m)\u001b[0m\u001b[0;34m\u001b[0m\u001b[0;34m\u001b[0m\u001b[0m\n\u001b[0m\u001b[1;32m      3\u001b[0m \u001b[0mprint\u001b[0m\u001b[0;34m(\u001b[0m\u001b[0;34m)\u001b[0m\u001b[0;34m\u001b[0m\u001b[0;34m\u001b[0m\u001b[0m\n\u001b[1;32m      4\u001b[0m \u001b[0mb\u001b[0m \u001b[0;34m=\u001b[0m \u001b[0mnp\u001b[0m\u001b[0;34m.\u001b[0m\u001b[0marray\u001b[0m\u001b[0;34m(\u001b[0m\u001b[0;34m[\u001b[0m\u001b[0mfirst_column\u001b[0m \u001b[0;34m+\u001b[0m \u001b[0mi\u001b[0m \u001b[0;32mfor\u001b[0m \u001b[0mi\u001b[0m \u001b[0;32min\u001b[0m \u001b[0mrange\u001b[0m\u001b[0;34m(\u001b[0m\u001b[0;36m5\u001b[0m\u001b[0;34m)\u001b[0m\u001b[0;34m]\u001b[0m\u001b[0;34m)\u001b[0m\u001b[0;34m.\u001b[0m\u001b[0mswapaxes\u001b[0m\u001b[0;34m(\u001b[0m\u001b[0;36m0\u001b[0m\u001b[0;34m,\u001b[0m \u001b[0;36m1\u001b[0m\u001b[0;34m)\u001b[0m\u001b[0;34m\u001b[0m\u001b[0;34m\u001b[0m\u001b[0m\n\u001b[1;32m      5\u001b[0m \u001b[0mprint\u001b[0m\u001b[0;34m(\u001b[0m\u001b[0mb\u001b[0m\u001b[0;34m)\u001b[0m\u001b[0;34m\u001b[0m\u001b[0;34m\u001b[0m\u001b[0m\n",
      "\u001b[0;31mNameError\u001b[0m: name 'a' is not defined"
     ]
    }
   ],
   "source": [
    "first_column = np.arange(0, 31, 10)\n",
    "print(a)\n",
    "print()\n",
    "b = np.array([first_column + i for i in range(5)]).swapaxes(0, 1)\n",
    "print(b)"
   ]
  },
  {
   "cell_type": "markdown",
   "id": "1b599b59",
   "metadata": {},
   "source": [
    "### Создайте случайный массив 5х5 и нормируйте его так, чтобы среднее по каждой строке было в точности ноль."
   ]
  },
  {
   "cell_type": "code",
   "execution_count": 5,
   "id": "940eb32a",
   "metadata": {},
   "outputs": [
    {
     "name": "stdout",
     "output_type": "stream",
     "text": [
      "[[0.71549032 0.21479552 0.06070883 0.4310589  0.34998912]\n",
      " [0.64728387 0.05544011 0.50177205 0.30878531 0.88191998]\n",
      " [0.6300666  0.95593247 0.52966663 0.33040556 0.94105639]\n",
      " [0.87243137 0.92588102 0.30785839 0.27665604 0.80880512]\n",
      " [0.16908571 0.92623339 0.38402145 0.14439758 0.61610853]]\n",
      "[-2.22044605e-17 -7.77156117e-17 -2.22044605e-17  2.22044605e-17\n",
      " -1.11022302e-17]\n",
      "[[ 0.36108178 -0.13961301 -0.29369971  0.07665036 -0.00441942]\n",
      " [ 0.16824361 -0.42360016  0.02273179 -0.17025495  0.40287972]\n",
      " [-0.04735893  0.27850694 -0.1477589  -0.34701997  0.26363086]\n",
      " [ 0.23410498  0.28755463 -0.330468   -0.36167035  0.17047873]\n",
      " [-0.27888362  0.47826406 -0.06394788 -0.30357175  0.16813919]]\n"
     ]
    }
   ],
   "source": [
    "a = np.random.rand(5, 5)\n",
    "print(a)\n",
    "a = a - a.mean(axis=1).reshape(5, -1)\n",
    "print(a.mean(axis=1))\n",
    "print(a)"
   ]
  },
  {
   "cell_type": "markdown",
   "id": "b79e8269",
   "metadata": {},
   "source": [
    "### Создайте произвольный двумерный массив NxM, N, M > 1. На его основе создайте новый двумерный массив, значения в котором являются средним значением исходного во всевозможных окошках размера 2х2 со сдвигом 1 по вертикали и горизонтали. "
   ]
  },
  {
   "cell_type": "code",
   "execution_count": 6,
   "id": "3da629d7",
   "metadata": {},
   "outputs": [
    {
     "name": "stdout",
     "output_type": "stream",
     "text": [
      "[[ 0  1  2  3  4  5  6  7  8  9 10 11 12]\n",
      " [13 14 15 16 17 18 19 20 21 22 23 24 25]\n",
      " [26 27 28 29 30 31 32 33 34 35 36 37 38]\n",
      " [39 40 41 42 43 44 45 46 47 48 49 50 51]\n",
      " [52 53 54 55 56 57 58 59 60 61 62 63 64]]\n",
      "[[ 7.  8.  9. 10. 11. 12. 13. 14. 15. 16. 17. 18.]\n",
      " [20. 21. 22. 23. 24. 25. 26. 27. 28. 29. 30. 31.]\n",
      " [33. 34. 35. 36. 37. 38. 39. 40. 41. 42. 43. 44.]\n",
      " [46. 47. 48. 49. 50. 51. 52. 53. 54. 55. 56. 57.]]\n"
     ]
    }
   ],
   "source": [
    "n = 5\n",
    "m = 13\n",
    "a = np.arange(n * m).reshape(n, -1)\n",
    "print(a)\n",
    "b = np.lib.stride_tricks.sliding_window_view(a, (n - 1, m - 1)).mean(axis=(0, 1))\n",
    "print(b)"
   ]
  },
  {
   "cell_type": "markdown",
   "id": "e526da1a",
   "metadata": {},
   "source": [
    "# Homework"
   ]
  },
  {
   "cell_type": "markdown",
   "id": "c6fce0c4",
   "metadata": {},
   "source": [
    "### 1. Создайте матрицу 5x5 со значениями 1,2,3,4 под главной диагональю. Остальные значения - нули."
   ]
  },
  {
   "cell_type": "code",
   "execution_count": 7,
   "id": "eb55f2bf",
   "metadata": {},
   "outputs": [
    {
     "name": "stdout",
     "output_type": "stream",
     "text": [
      "[[0 0 0 0 0]\n",
      " [1 0 0 0 0]\n",
      " [2 1 0 0 0]\n",
      " [3 2 1 0 0]\n",
      " [4 3 2 1 0]]\n"
     ]
    }
   ],
   "source": [
    "a = (np.arange(25) // 5 - (np.arange(25) % 5)).reshape(5, -1)\n",
    "a[a < 0] = 0\n",
    "print(a)"
   ]
  },
  {
   "cell_type": "markdown",
   "id": "775eb238",
   "metadata": {},
   "source": [
    "### 2. Создайте двумерный массив 10x3, заполненный случайными значениями. В каждой строке выберите значение, наиболее близкое к 0.5."
   ]
  },
  {
   "cell_type": "code",
   "execution_count": 8,
   "id": "4502d06a",
   "metadata": {},
   "outputs": [
    {
     "name": "stdout",
     "output_type": "stream",
     "text": [
      "[[0.36636325 0.36686002 0.80410106]\n",
      " [0.84885245 0.83994039 0.56952183]\n",
      " [0.09396546 0.17213903 0.93009918]\n",
      " [0.47761232 0.68169265 0.62226745]\n",
      " [0.11788427 0.27785797 0.68450552]\n",
      " [0.83752367 0.82107839 0.9431907 ]\n",
      " [0.48221262 0.63621889 0.18713803]\n",
      " [0.72283697 0.83135753 0.51776695]\n",
      " [0.76292288 0.80797579 0.25031491]\n",
      " [0.4045493  0.70472765 0.77015998]]\n",
      "[[0.36686002]\n",
      " [0.56952183]\n",
      " [0.17213903]\n",
      " [0.47761232]\n",
      " [0.68450552]\n",
      " [0.82107839]\n",
      " [0.48221262]\n",
      " [0.51776695]\n",
      " [0.25031491]\n",
      " [0.4045493 ]]\n"
     ]
    }
   ],
   "source": [
    "a = np.random.rand(10, 3)\n",
    "print(a)\n",
    "b = np.abs(a - 0.5)\n",
    "print(a[b == np.sort(b)[::, 0].reshape(-1, 1)].reshape(-1, 1))"
   ]
  },
  {
   "cell_type": "markdown",
   "id": "12d33264",
   "metadata": {},
   "source": [
    "### 3. Создайте двумерный массив 6x6, заполненный случайными значениями. Сумму по каждой строке поделите на максимальный элемент из столбца с тем же индексом."
   ]
  },
  {
   "cell_type": "code",
   "execution_count": 9,
   "id": "12b00e48",
   "metadata": {},
   "outputs": [
    {
     "name": "stdout",
     "output_type": "stream",
     "text": [
      "[[0.72959493 0.2879129  0.96072874 0.35120721 0.36986908 0.45747131]\n",
      " [0.65526382 0.93734122 0.39585309 0.4845177  0.23089236 0.42509202]\n",
      " [0.93769193 0.81212551 0.32662914 0.43211083 0.13353681 0.5581156 ]\n",
      " [0.80014915 0.63780789 0.63057545 0.91774252 0.19824153 0.87391541]\n",
      " [0.30528196 0.29617169 0.31479197 0.22381204 0.47932077 0.69796161]\n",
      " [0.20760392 0.31995424 0.27888802 0.21306692 0.64429504 0.08789969]]\n",
      "[[3.36654724]\n",
      " [3.33812291]\n",
      " [3.33102328]\n",
      " [4.4221902 ]\n",
      " [3.59670634]\n",
      " [2.00443635]]\n"
     ]
    }
   ],
   "source": [
    "a = np.random.rand(6, 6)\n",
    "print(a)\n",
    "b = a.sum(axis=1).reshape(-1, 1)\n",
    "c = a.max(axis=0).reshape(-1, 1)\n",
    "print(b / c)"
   ]
  },
  {
   "cell_type": "markdown",
   "id": "97f2db21",
   "metadata": {},
   "source": [
    "### 4. На примере массива x = np.array([6, 2, 0, 3, 0, 0, 5, 7, 0]) найдите максимальный элемент в массиве среди элементов, перед которыми стоит ноль."
   ]
  },
  {
   "cell_type": "code",
   "execution_count": 10,
   "id": "89c75627",
   "metadata": {},
   "outputs": [
    {
     "name": "stdout",
     "output_type": "stream",
     "text": [
      "5\n",
      "[ 0.  7. 23.  0.  0.  1.  0.  0.  0.  0.  0. 10. 29. 16. 22.  0.  0.  1.\n",
      " 20.  6.]\n",
      "10.0\n"
     ]
    }
   ],
   "source": [
    "x = np.array([6, 2, 0, 3, 0, 0, 5, 7, 0])\n",
    "print(((x[1:])[x[0:-1] == 0]).max())\n",
    "# случайный пример\n",
    "x = np.floor(30 * np.random.rand(20)**5)\n",
    "print(x)\n",
    "print(((x[1:])[x[0:-1] == 0]).max())"
   ]
  },
  {
   "cell_type": "markdown",
   "id": "c777cac7",
   "metadata": {},
   "source": [
    "### 5. Пусть заданы два массива x = np.ones(10) и i = np.array([0, 1, 2, 3, 5, 5, 5, 8]). Прибавьте единицу к тем элементам массива x, индексы которых указаны в массиве i. В случае, если некоторый индекс встретился в массиве i несколько раз, прибавьте к соответствующему элементу массива x число вхождений данного индекса в массив i."
   ]
  },
  {
   "cell_type": "code",
   "execution_count": 51,
   "id": "2c063001",
   "metadata": {},
   "outputs": [
    {
     "name": "stdout",
     "output_type": "stream",
     "text": [
      "[1. 1. 1. 1. 1. 1. 1. 1. 1. 1. 1. 1. 1. 1. 1. 1. 1. 1. 1. 1.]\n",
      "[ 0  1  2  3  5  5  5  8 15 15 15 15 15 15 14]\n",
      "[2. 2. 2. 2. 1. 4. 1. 1. 2. 1. 1. 1. 1. 1. 2. 7. 1. 1. 1. 1.]\n"
     ]
    }
   ],
   "source": [
    "x = np.ones(20)\n",
    "i = np.array([0, 1, 2, 3, 5, 5, 5, 8, 15, 15, 15, 15, 15, 15, 14])\n",
    "print(x, i, x + np.pad(np.bincount(i), [(0, len(x) - np.max(i) - 1)], mode='constant'), sep='\\n')"
   ]
  },
  {
   "cell_type": "markdown",
   "id": "aa90d441",
   "metadata": {},
   "source": [
    "### 6. Сколько вы можете предложить способов округлить значения в массиве до ближайшего целого?"
   ]
  },
  {
   "cell_type": "code",
   "execution_count": 13,
   "id": "b139c315",
   "metadata": {},
   "outputs": [
    {
     "name": "stdout",
     "output_type": "stream",
     "text": [
      "[6.10467339 1.31813369 5.24702716 8.17389846 5.37703781 4.73753203\n",
      " 4.94840167 2.45921178 5.39048056 6.63194814]\n",
      "[6. 1. 5. 8. 5. 5. 5. 2. 5. 7.]\n",
      "[6. 1. 5. 8. 5. 5. 5. 2. 5. 7.]\n"
     ]
    }
   ],
   "source": [
    "a = np.random.rand(10) * 10\n",
    "print(a)\n",
    "print(np.round(a))\n",
    "print(a.round())"
   ]
  },
  {
   "cell_type": "markdown",
   "id": "98ead4ea",
   "metadata": {},
   "source": [
    "# kNN"
   ]
  },
  {
   "cell_type": "code",
   "execution_count": 15,
   "id": "3ed5b731",
   "metadata": {},
   "outputs": [],
   "source": [
    "from sklearn.datasets import fetch_openml\n",
    "\n",
    "#Загрузка может занять около минуты\n",
    "images, labels = fetch_openml('mnist_784', return_X_y=True, as_frame=False)"
   ]
  },
  {
   "cell_type": "code",
   "execution_count": 302,
   "id": "cdda8b59",
   "metadata": {},
   "outputs": [
    {
     "data": {
      "text/plain": [
       "(70000, 784)"
      ]
     },
     "execution_count": 302,
     "metadata": {},
     "output_type": "execute_result"
    }
   ],
   "source": [
    "images.shape"
   ]
  },
  {
   "cell_type": "code",
   "execution_count": 303,
   "id": "e934a589",
   "metadata": {},
   "outputs": [
    {
     "data": {
      "text/plain": [
       "(70000,)"
      ]
     },
     "execution_count": 303,
     "metadata": {},
     "output_type": "execute_result"
    }
   ],
   "source": [
    "labels.shape"
   ]
  },
  {
   "cell_type": "code",
   "execution_count": 304,
   "id": "43aa41ea",
   "metadata": {
    "scrolled": true
   },
   "outputs": [
    {
     "data": {
      "image/png": "[encoded data removed]",
      "text/plain": [
       "<Figure size 1080x360 with 1 Axes>"
      ]
     },
     "metadata": {
      "needs_background": "light"
     },
     "output_type": "display_data"
    }
   ],
   "source": [
    "import matplotlib.pyplot as plt\n",
    "\n",
    "i = 125\n",
    "plt.imshow(images[i].reshape(28, 28), cmap='Greys_r')\n",
    "plt.title('Number ' + labels[i])\n",
    "plt.show()"
   ]
  },
  {
   "cell_type": "code",
   "execution_count": 305,
   "id": "9e5e9699",
   "metadata": {},
   "outputs": [],
   "source": [
    "train_size = 1000\n",
    "train_images = images[:train_size]\n",
    "train_labels = labels[:train_size].astype(int)"
   ]
  },
  {
   "cell_type": "code",
   "execution_count": 306,
   "id": "28593c4d",
   "metadata": {},
   "outputs": [],
   "source": [
    "test_size = 100\n",
    "test_images = images[-test_size:]\n",
    "test_labels = labels[-test_size:].astype(int)"
   ]
  },
  {
   "cell_type": "code",
   "execution_count": 307,
   "id": "6d9aa999",
   "metadata": {},
   "outputs": [
    {
     "name": "stdout",
     "output_type": "stream",
     "text": [
      "(100, 784) (1000, 784)\n"
     ]
    }
   ],
   "source": [
    "print(test_images.shape, train_images.shape)"
   ]
  },
  {
   "cell_type": "code",
   "execution_count": 308,
   "id": "cca21605",
   "metadata": {
    "scrolled": true
   },
   "outputs": [],
   "source": [
    "G = np.repeat(train_images[::,::, np.newaxis], 100, axis = 2)"
   ]
  },
  {
   "cell_type": "markdown",
   "id": "24fd2fe4",
   "metadata": {},
   "source": [
    "# Евклидова метрика"
   ]
  },
  {
   "cell_type": "code",
   "execution_count": 309,
   "id": "694fb535",
   "metadata": {},
   "outputs": [],
   "source": [
    "# Евклидова метрика\n",
    "G = (G - test_images.swapaxes(0, 1))**2\n",
    "B = (G.sum(axis=1)**0.5).swapaxes(0, 1)"
   ]
  },
  {
   "cell_type": "code",
   "execution_count": 310,
   "id": "adda29a0",
   "metadata": {
    "scrolled": true
   },
   "outputs": [
    {
     "name": "stdout",
     "output_type": "stream",
     "text": [
      "(100, 1000)\n"
     ]
    }
   ],
   "source": [
    "print(np.sort(B).shape)"
   ]
  },
  {
   "cell_type": "code",
   "execution_count": 311,
   "id": "cc30c28d",
   "metadata": {
    "collapsed": true
   },
   "outputs": [
    {
     "name": "stdout",
     "output_type": "stream",
     "text": [
      "[[8 8 8 8 8 8 8 8 8 8 8 8 8 8 8 8 8 8 8 3 2 9 4 8 8 8 1 8 9 8 4 9 9 9 9 8\n",
      "  5 2 1 1 8 1 8 6 1 1 9 8 7 1 5 1 9 3 1 1 8 8 1 1 1 1 8 3 4 1 1 1 1 9 8 1\n",
      "  8 1 1 1 1 8 1 1 9 1 1 1 1 1 5 1 2 9 1 1 7 8 1 6 1 1 1]\n",
      " [9 9 9 9 9 9 9 9 9 9 4 9 7 4 9 9 9 9 7 9 9 9 9 9 9 9 9 7 8 4 9 9 7 9 4 7\n",
      "  7 7 9 3 4 9 4 7 4 9 7 4 9 4 4 9 9 4 4 9 8 9 7 9 4 4 9 4 3 7 9 7 7 9 1 4\n",
      "  4 4 7 7 7 4 9 4 9 4 9 9 4 4 5 7 7 4 9 9 9 9 7 7 7 7 5]\n",
      " [0 0 0 0 0 0 0 0 0 0 0 0 0 0 0 0 0 2 0 5 0 0 5 5 0 0 0 0 0 2 0 4 5 3 2 0\n",
      "  5 0 6 5 5 5 0 0 5 0 0 5 5 0 1 5 2 6 6 2 5 5 6 4 5 5 6 4 6 5 0 5 6 5 5 2\n",
      "  4 5 5 5 4 5 6 0 2 0 3 5 6 4 0 5 6 5 2 5 7 6 6 4 6 4 6]\n",
      " [1 1 1 1 1 1 1 1 1 1 1 1 1 1 1 1 1 1 1 7 1 1 1 1 1 1 1 1 1 1 1 1 1 2 7 1\n",
      "  1 1 1 1 1 4 1 1 1 7 4 7 1 1 1 9 9 9 1 1 1 1 8 1 4 1 1 8 1 8 8 1 9 1 9 1\n",
      "  1 8 4 2 1 7 4 1 1 5 7 5 1 8 9 8 2 1 1 9 7 7 4 1 4 1 6]\n",
      " [5 5 5 5 5 0 5 5 0 5 5 5 2 5 5 5 5 5 5 5 5 5 6 4 5 5 8 6 1 5 6 2 5 0 5 2\n",
      "  5 0 2 1 5 2 4 2 1 4 0 4 6 1 9 1 1 9 5 5 8 1 4 1 0 4 2 1 1 8 3 5 2 1 5 9\n",
      "  4 1 7 1 1 1 6 1 3 6 0 6 1 9 6 1 4 1 1 1 5 1 4 4 7 1 1]\n",
      " [7 9 7 7 7 7 7 9 7 9 7 7 9 9 7 7 9 9 7 7 7 9 9 9 7 9 9 4 9 7 9 9 7 7 7 4\n",
      "  9 7 7 9 9 4 9 9 9 7 7 4 9 4 7 7 4 7 7 7 7 9 9 7 9 7 9 7 9 4 1 4 7 9 8 4\n",
      "  9 1 1 4 1 9 1 7 7 9 9 9 7 1 9 9 1 7 4 9 7 9 7 1 7 9 9]\n",
      " [4 4 4 4 4 4 4 4 9 5 4 4 4 8 4 4 4 6 7 4 9 4 6 4 4 9 4 4 4 7 5 7 5 4 4 6\n",
      "  7 5 4 7 1 9 9 5 4 6 4 7 4 7 5 9 7 4 1 9 4 5 2 5 4 4 1 2 4 9 7 8 9 3 4 5\n",
      "  6 7 5 5 4 7 7 0 7 7 5 5 7 7 9 1 4 9 9 9 1 8 8 5 8 1 9]\n",
      " [5 5 5 5 8 5 5 5 5 5 5 5 5 8 5 5 5 5 1 1 1 7 1 1 5 1 1 1 6 1 6 4 4 4 5 1\n",
      "  1 1 1 6 1 1 1 1 1 6 0 1 1 4 1 1 1 5 1 1 8 1 1 1 1 7 1 1 1 7 1 1 1 1 5 1\n",
      "  1 1 1 4 2 4 1 1 5 5 1 1 1 3 2 5 1 1 6 9 4 1 1 1 1 1 1]\n",
      " [6 6 6 6 6 6 6 6 6 6 6 6 6 6 6 6 6 6 6 6 6 6 6 6 2 6 6 6 6 6 6 6 2 6 6 6\n",
      "  6 6 6 6 5 6 4 6 6 6 5 6 6 9 4 6 6 6 0 5 0 1 4 1 6 9 1 5 6 5 6 6 1 6 6 6\n",
      "  5 6 5 1 1 4 1 7 6 9 4 6 6 1 4 8 5 6 4 9 1 5 4 9 4 4 1]\n",
      " [7 7 7 7 7 7 7 7 7 7 7 9 7 7 7 7 7 7 7 7 7 7 9 7 7 7 7 7 7 7 7 9 7 9 9 7\n",
      "  9 7 7 7 9 9 7 9 9 7 7 7 7 9 7 9 7 9 7 9 4 9 7 9 9 9 9 7 7 4 9 7 9 7 4 9\n",
      "  4 9 9 9 9 7 7 4 7 7 2 4 9 9 9 9 4 7 7 4 9 9 7 9 7 9 4]] [8 9 0 1 2 3 4 5 6 7]\n"
     ]
    }
   ],
   "source": [
    "print(train_labels[np.argsort(B)[:N, :K]], test_labels[0:N])"
   ]
  },
  {
   "cell_type": "code",
   "execution_count": 312,
   "id": "5a381b3d",
   "metadata": {},
   "outputs": [],
   "source": [
    "# Внешний цикл нужен для графика, но вот как обойтись без внутреннего я пока так и не понял\n",
    "stat = dict()\n",
    "for K in range(1, 100):\n",
    "    acc = 0\n",
    "    for i in range(100):\n",
    "        if np.bincount(train_labels[np.argsort(B)[i, :K]]).argmax() == test_labels[i]:\n",
    "            acc += 1\n",
    "    stat[K] = acc"
   ]
  },
  {
   "cell_type": "code",
   "execution_count": 313,
   "id": "7ec32937",
   "metadata": {},
   "outputs": [
    {
     "name": "stdout",
     "output_type": "stream",
     "text": [
      "Max accuracy is 94%\n"
     ]
    },
    {
     "data": {
      "image/png": "[encoded data removed]",
      "text/plain": [
       "<Figure size 1080x360 with 1 Axes>"
      ]
     },
     "metadata": {
      "needs_background": "light"
     },
     "output_type": "display_data"
    }
   ],
   "source": [
    "stat[0] = 0\n",
    "plt.rcParams[\"figure.figsize\"] = (15,5)\n",
    "print('Max accuracy is ', max(stat.values()), '%', sep='')\n",
    "stat[0] = 100 #refers to perfect accuracy\n",
    "plt.bar(stat.keys(), stat.values())\n",
    "plt.xlabel('K - nearest neighbors')\n",
    "plt.ylabel('Accuracy')\n",
    "plt.title('Метрика Евклида')\n",
    "plt.show()"
   ]
  },
  {
   "cell_type": "code",
   "execution_count": 314,
   "id": "ef9c9c86",
   "metadata": {},
   "outputs": [],
   "source": [
    "train_size = 1000\n",
    "train_images = images[:train_size]\n",
    "train_labels = labels[:train_size].astype(int)\n",
    "test_size = 100\n",
    "test_images = images[-test_size:]\n",
    "test_labels = labels[-test_size:].astype(int)"
   ]
  },
  {
   "cell_type": "code",
   "execution_count": 315,
   "id": "48c9743c",
   "metadata": {
    "scrolled": true
   },
   "outputs": [],
   "source": [
    "G = np.repeat(train_images[::,::, np.newaxis], 100, axis = 2)"
   ]
  },
  {
   "cell_type": "markdown",
   "id": "d7d4e0eb",
   "metadata": {},
   "source": [
    "# Манхетенская метрика"
   ]
  },
  {
   "cell_type": "code",
   "execution_count": 317,
   "id": "54e0d167",
   "metadata": {},
   "outputs": [],
   "source": [
    "# Манхетенская метрика\n",
    "G = np.absolute((G - test_images.swapaxes(0, 1)))\n",
    "B = (G.sum(axis=1)).swapaxes(0, 1)"
   ]
  },
  {
   "cell_type": "code",
   "execution_count": 323,
   "id": "456e945a",
   "metadata": {},
   "outputs": [],
   "source": [
    "# Внешний цикл нужен для графика, но вот как обойтись без внутреннего я пока так и не понял\n",
    "stat = dict()\n",
    "for K in range(1, 100):\n",
    "    acc = 0\n",
    "    for i in range(100):\n",
    "        if np.bincount(train_labels[np.argsort(B)[i, :K]]).argmax() == test_labels[i]:\n",
    "            acc += 1\n",
    "    stat[K] = acc"
   ]
  },
  {
   "cell_type": "code",
   "execution_count": 324,
   "id": "a9856ef3",
   "metadata": {},
   "outputs": [
    {
     "name": "stdout",
     "output_type": "stream",
     "text": [
      "Max accuracy is 94%\n"
     ]
    },
    {
     "data": {
      "image/png": "[encoded data removed]",
      "text/plain": [
       "<Figure size 1080x360 with 1 Axes>"
      ]
     },
     "metadata": {
      "needs_background": "light"
     },
     "output_type": "display_data"
    }
   ],
   "source": [
    "stat[0] = 0\n",
    "plt.rcParams[\"figure.figsize\"] = (15,5)\n",
    "print('Max accuracy is ', max(stat.values()), '%', sep='')\n",
    "stat[0] = 100 #refers to perfect accuracy\n",
    "plt.bar(stat.keys(), stat.values())\n",
    "plt.xlabel('K - nearest neighbors')\n",
    "plt.ylabel('Accuracy')\n",
    "plt.title('Метрика Евклида')\n",
    "plt.show()"
   ]
  },
  {
   "cell_type": "code",
   "execution_count": null,
   "id": "aa1fdb5e",
   "metadata": {},
   "outputs": [],
   "source": []
  },
  {
   "cell_type": "markdown",
   "id": "b43c7a13",
   "metadata": {},
   "source": [
    "### "
   ]
  }
 ],
 "metadata": {
  "kernelspec": {
   "display_name": "Python 3 (ipykernel)",
   "language": "python",
   "name": "python3"
  },
  "language_info": {
   "codemirror_mode": {
    "name": "ipython",
    "version": 3
   },
   "file_extension": ".py",
   "mimetype": "text/x-python",
   "name": "python",
   "nbconvert_exporter": "python",
   "pygments_lexer": "ipython3",
   "version": "3.9.7"
  }
 },
 "nbformat": 4,
 "nbformat_minor": 5
}
